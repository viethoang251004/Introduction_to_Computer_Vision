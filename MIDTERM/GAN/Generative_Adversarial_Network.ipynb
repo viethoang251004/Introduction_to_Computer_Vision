{
  "nbformat": 4,
  "nbformat_minor": 0,
  "metadata": {
    "colab": {
      "provenance": []
    },
    "kernelspec": {
      "name": "python3",
      "display_name": "Python 3"
    },
    "language_info": {
      "name": "python"
    }
  },
  "cells": [
    {
      "cell_type": "code",
      "execution_count": 1,
      "metadata": {
        "colab": {
          "base_uri": "https://localhost:8080/"
        },
        "id": "Bg_xlEbPLn5A",
        "outputId": "5204176a-85f7-4135-d705-41858ced1b15"
      },
      "outputs": [
        {
          "output_type": "stream",
          "name": "stdout",
          "text": [
            "Downloading http://yann.lecun.com/exdb/mnist/train-images-idx3-ubyte.gz\n",
            "Failed to download (trying next):\n",
            "HTTP Error 403: Forbidden\n",
            "\n",
            "Downloading https://ossci-datasets.s3.amazonaws.com/mnist/train-images-idx3-ubyte.gz\n",
            "Downloading https://ossci-datasets.s3.amazonaws.com/mnist/train-images-idx3-ubyte.gz to ./data/MNIST/raw/train-images-idx3-ubyte.gz\n"
          ]
        },
        {
          "output_type": "stream",
          "name": "stderr",
          "text": [
            "100%|██████████| 9.91M/9.91M [00:00<00:00, 55.1MB/s]\n"
          ]
        },
        {
          "output_type": "stream",
          "name": "stdout",
          "text": [
            "Extracting ./data/MNIST/raw/train-images-idx3-ubyte.gz to ./data/MNIST/raw\n",
            "\n",
            "Downloading http://yann.lecun.com/exdb/mnist/train-labels-idx1-ubyte.gz\n",
            "Failed to download (trying next):\n",
            "HTTP Error 403: Forbidden\n",
            "\n",
            "Downloading https://ossci-datasets.s3.amazonaws.com/mnist/train-labels-idx1-ubyte.gz\n",
            "Downloading https://ossci-datasets.s3.amazonaws.com/mnist/train-labels-idx1-ubyte.gz to ./data/MNIST/raw/train-labels-idx1-ubyte.gz\n"
          ]
        },
        {
          "output_type": "stream",
          "name": "stderr",
          "text": [
            "100%|██████████| 28.9k/28.9k [00:00<00:00, 2.15MB/s]"
          ]
        },
        {
          "output_type": "stream",
          "name": "stdout",
          "text": [
            "Extracting ./data/MNIST/raw/train-labels-idx1-ubyte.gz to ./data/MNIST/raw\n",
            "\n",
            "Downloading http://yann.lecun.com/exdb/mnist/t10k-images-idx3-ubyte.gz\n"
          ]
        },
        {
          "output_type": "stream",
          "name": "stderr",
          "text": [
            "\n"
          ]
        },
        {
          "output_type": "stream",
          "name": "stdout",
          "text": [
            "Failed to download (trying next):\n",
            "HTTP Error 403: Forbidden\n",
            "\n",
            "Downloading https://ossci-datasets.s3.amazonaws.com/mnist/t10k-images-idx3-ubyte.gz\n",
            "Downloading https://ossci-datasets.s3.amazonaws.com/mnist/t10k-images-idx3-ubyte.gz to ./data/MNIST/raw/t10k-images-idx3-ubyte.gz\n"
          ]
        },
        {
          "output_type": "stream",
          "name": "stderr",
          "text": [
            "100%|██████████| 1.65M/1.65M [00:00<00:00, 14.1MB/s]\n"
          ]
        },
        {
          "output_type": "stream",
          "name": "stdout",
          "text": [
            "Extracting ./data/MNIST/raw/t10k-images-idx3-ubyte.gz to ./data/MNIST/raw\n",
            "\n",
            "Downloading http://yann.lecun.com/exdb/mnist/t10k-labels-idx1-ubyte.gz\n",
            "Failed to download (trying next):\n",
            "HTTP Error 403: Forbidden\n",
            "\n",
            "Downloading https://ossci-datasets.s3.amazonaws.com/mnist/t10k-labels-idx1-ubyte.gz\n",
            "Downloading https://ossci-datasets.s3.amazonaws.com/mnist/t10k-labels-idx1-ubyte.gz to ./data/MNIST/raw/t10k-labels-idx1-ubyte.gz\n"
          ]
        },
        {
          "output_type": "stream",
          "name": "stderr",
          "text": [
            "100%|██████████| 4.54k/4.54k [00:00<00:00, 1.36MB/s]"
          ]
        },
        {
          "output_type": "stream",
          "name": "stdout",
          "text": [
            "Extracting ./data/MNIST/raw/t10k-labels-idx1-ubyte.gz to ./data/MNIST/raw\n",
            "\n"
          ]
        },
        {
          "output_type": "stream",
          "name": "stderr",
          "text": [
            "\n"
          ]
        },
        {
          "output_type": "stream",
          "name": "stdout",
          "text": [
            "Epoch [1/50] - Loss D: 0.3089, Loss G: 3.9321\n",
            "Epoch [2/50] - Loss D: 0.2001, Loss G: 5.2467\n",
            "Epoch [3/50] - Loss D: 0.1922, Loss G: 6.8491\n",
            "Epoch [4/50] - Loss D: 0.2202, Loss G: 6.3833\n",
            "Epoch [5/50] - Loss D: 0.4768, Loss G: 0.5335\n",
            "Epoch [6/50] - Loss D: 0.0531, Loss G: 4.6737\n",
            "Epoch [7/50] - Loss D: 0.1947, Loss G: 3.1608\n",
            "Epoch [8/50] - Loss D: 0.2878, Loss G: 2.5820\n",
            "Epoch [9/50] - Loss D: 0.2464, Loss G: 1.8099\n",
            "Epoch [10/50] - Loss D: 1.0492, Loss G: 1.8377\n",
            "Epoch [11/50] - Loss D: 0.7056, Loss G: 2.4455\n",
            "Epoch [12/50] - Loss D: 0.7410, Loss G: 1.9144\n",
            "Epoch [13/50] - Loss D: 0.8714, Loss G: 1.8771\n",
            "Epoch [14/50] - Loss D: 0.9151, Loss G: 1.5805\n",
            "Epoch [15/50] - Loss D: 0.9918, Loss G: 1.2548\n",
            "Epoch [16/50] - Loss D: 0.8809, Loss G: 1.5970\n",
            "Epoch [17/50] - Loss D: 0.9010, Loss G: 1.4306\n",
            "Epoch [18/50] - Loss D: 0.9336, Loss G: 1.3333\n",
            "Epoch [19/50] - Loss D: 1.0545, Loss G: 1.3327\n",
            "Epoch [20/50] - Loss D: 1.0470, Loss G: 1.2760\n",
            "Epoch [21/50] - Loss D: 1.0305, Loss G: 1.3155\n",
            "Epoch [22/50] - Loss D: 1.1173, Loss G: 1.3491\n",
            "Epoch [23/50] - Loss D: 1.1423, Loss G: 0.9752\n",
            "Epoch [24/50] - Loss D: 1.1361, Loss G: 1.2279\n",
            "Epoch [25/50] - Loss D: 1.0937, Loss G: 0.9503\n",
            "Epoch [26/50] - Loss D: 1.1311, Loss G: 1.2023\n",
            "Epoch [27/50] - Loss D: 1.1002, Loss G: 0.9811\n",
            "Epoch [28/50] - Loss D: 1.0906, Loss G: 1.1050\n",
            "Epoch [29/50] - Loss D: 1.0915, Loss G: 0.9581\n",
            "Epoch [30/50] - Loss D: 1.1295, Loss G: 0.8261\n",
            "Epoch [31/50] - Loss D: 1.1510, Loss G: 1.1462\n",
            "Epoch [32/50] - Loss D: 1.1800, Loss G: 0.8929\n",
            "Epoch [33/50] - Loss D: 1.2419, Loss G: 0.8958\n",
            "Epoch [34/50] - Loss D: 1.2525, Loss G: 0.8994\n",
            "Epoch [35/50] - Loss D: 1.2724, Loss G: 0.8923\n",
            "Epoch [36/50] - Loss D: 1.2511, Loss G: 1.0764\n",
            "Epoch [37/50] - Loss D: 1.1413, Loss G: 1.0816\n",
            "Epoch [38/50] - Loss D: 1.1708, Loss G: 0.9779\n",
            "Epoch [39/50] - Loss D: 1.2124, Loss G: 1.0297\n",
            "Epoch [40/50] - Loss D: 1.2199, Loss G: 1.1165\n",
            "Epoch [41/50] - Loss D: 1.1830, Loss G: 0.8216\n",
            "Epoch [42/50] - Loss D: 1.2489, Loss G: 0.8243\n",
            "Epoch [43/50] - Loss D: 1.2302, Loss G: 0.8672\n",
            "Epoch [44/50] - Loss D: 1.2855, Loss G: 0.9576\n",
            "Epoch [45/50] - Loss D: 1.2348, Loss G: 1.0185\n",
            "Epoch [46/50] - Loss D: 1.2886, Loss G: 1.1007\n",
            "Epoch [47/50] - Loss D: 1.1443, Loss G: 0.8394\n",
            "Epoch [48/50] - Loss D: 1.2315, Loss G: 0.8348\n",
            "Epoch [49/50] - Loss D: 1.1591, Loss G: 1.0635\n",
            "Epoch [50/50] - Loss D: 1.1903, Loss G: 1.0168\n",
            "Training finished!\n"
          ]
        }
      ],
      "source": [
        "import torch\n",
        "import torch.nn as nn\n",
        "import torch.optim as optim\n",
        "import torchvision\n",
        "import torchvision.transforms as transforms\n",
        "from torchvision.utils import save_image\n",
        "\n",
        "# Hyperparameters\n",
        "batch_size = 128\n",
        "z_dim = 100\n",
        "lr = 0.0002\n",
        "epochs = 50\n",
        "device = torch.device('cuda' if torch.cuda.is_available() else 'cpu')\n",
        "\n",
        "# Load MNIST dataset\n",
        "transform = transforms.Compose([\n",
        "    transforms.ToTensor(),\n",
        "    transforms.Normalize((0.5,), (0.5,))  # Normalize to [-1, 1]\n",
        "])\n",
        "\n",
        "train_dataset = torchvision.datasets.MNIST(\n",
        "    root='./data', train=True, transform=transform, download=True)\n",
        "train_loader = torch.utils.data.DataLoader(\n",
        "    train_dataset, batch_size=batch_size, shuffle=True)\n",
        "\n",
        "# Define Generator\n",
        "class Generator(nn.Module):\n",
        "    def __init__(self, z_dim):\n",
        "        super(Generator, self).__init__()\n",
        "        self.model = nn.Sequential(\n",
        "            nn.Linear(z_dim, 256),\n",
        "            nn.ReLU(inplace=True),\n",
        "            nn.Linear(256, 512),\n",
        "            nn.ReLU(inplace=True),\n",
        "            nn.Linear(512, 1024),\n",
        "            nn.ReLU(inplace=True),\n",
        "            nn.Linear(1024, 28 * 28),\n",
        "            nn.Tanh()  # Output range [-1, 1]\n",
        "        )\n",
        "\n",
        "    def forward(self, z):\n",
        "        return self.model(z).view(-1, 1, 28, 28)\n",
        "\n",
        "# Define Discriminator\n",
        "class Discriminator(nn.Module):\n",
        "    def __init__(self):\n",
        "        super(Discriminator, self).__init__()\n",
        "        self.model = nn.Sequential(\n",
        "            nn.Linear(28 * 28, 1024),\n",
        "            nn.LeakyReLU(0.2, inplace=True),\n",
        "            nn.Dropout(0.3),\n",
        "            nn.Linear(1024, 512),\n",
        "            nn.LeakyReLU(0.2, inplace=True),\n",
        "            nn.Dropout(0.3),\n",
        "            nn.Linear(512, 256),\n",
        "            nn.LeakyReLU(0.2, inplace=True),\n",
        "            nn.Dropout(0.3),\n",
        "            nn.Linear(256, 1),\n",
        "            nn.Sigmoid()  # Output probability\n",
        "        )\n",
        "\n",
        "    def forward(self, x):\n",
        "        x = x.view(x.size(0), -1)\n",
        "        return self.model(x)\n",
        "\n",
        "# Initialize models\n",
        "G = Generator(z_dim).to(device)\n",
        "D = Discriminator().to(device)\n",
        "\n",
        "# Loss function and optimizers\n",
        "criterion = nn.BCELoss()\n",
        "optimizer_G = optim.Adam(G.parameters(), lr=lr, betas=(0.5, 0.999))\n",
        "optimizer_D = optim.Adam(D.parameters(), lr=lr, betas=(0.5, 0.999))\n",
        "\n",
        "# Training loop\n",
        "for epoch in range(epochs):\n",
        "    for batch_idx, (real_images, _) in enumerate(train_loader):\n",
        "        # Train Discriminator\n",
        "        real_images = real_images.to(device)\n",
        "        batch_size = real_images.size(0)\n",
        "        real_labels = torch.ones(batch_size, 1).to(device)\n",
        "        fake_labels = torch.zeros(batch_size, 1).to(device)\n",
        "\n",
        "        # Real images\n",
        "        outputs = D(real_images)\n",
        "        d_loss_real = criterion(outputs, real_labels)\n",
        "\n",
        "        # Fake images\n",
        "        z = torch.randn(batch_size, z_dim).to(device)\n",
        "        fake_images = G(z)\n",
        "        outputs = D(fake_images.detach())\n",
        "        d_loss_fake = criterion(outputs, fake_labels)\n",
        "\n",
        "        # Total loss and backpropagation\n",
        "        d_loss = d_loss_real + d_loss_fake\n",
        "        optimizer_D.zero_grad()\n",
        "        d_loss.backward()\n",
        "        optimizer_D.step()\n",
        "\n",
        "        # Train Generator\n",
        "        z = torch.randn(batch_size, z_dim).to(device)\n",
        "        fake_images = G(z)\n",
        "        outputs = D(fake_images)\n",
        "        g_loss = criterion(outputs, real_labels)\n",
        "\n",
        "        optimizer_G.zero_grad()\n",
        "        g_loss.backward()\n",
        "        optimizer_G.step()\n",
        "\n",
        "    # Log progress\n",
        "    print(f\"Epoch [{epoch+1}/{epochs}] - Loss D: {d_loss.item():.4f}, Loss G: {g_loss.item():.4f}\")\n",
        "\n",
        "    # Save generated samples\n",
        "    if (epoch + 1) % 10 == 0:\n",
        "        save_image(fake_images, f'generated_images_epoch_{epoch+1}.png', nrow=10, normalize=True)\n",
        "\n",
        "print(\"Training finished!\")\n"
      ]
    }
  ]
}